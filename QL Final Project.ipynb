{
 "cells": [
  {
   "cell_type": "code",
   "execution_count": 2,
   "metadata": {},
   "outputs": [
    {
     "data": {
      "text/plain": [
       "Text(0, 0.5, 'Water Drinks (Litre)')"
      ]
     },
     "execution_count": 2,
     "metadata": {},
     "output_type": "execute_result"
    }
   ],
   "source": [
    "import numpy as np\n",
    "import matplotlib.pyplot as plt\n",
    "\n",
    "# Running Distance in Mile\n",
    "x = np.array([3.3,4.4,5.5,6.71,6.93,4.168,9.779,6.182,7.59,2.167,\n",
    "                         7.042,10.791,5.313,7.997,5.654,9.27,3.1])\n",
    "\n",
    "# Water Drinks in Litre\n",
    "y = np.array([1.7,2.76,2.09,3.19,1.694,1.573,3.366,2.596,2.53,1.221,\n",
    "                         2.827,3.465,1.65,2.904,2.42,2.94,1.3])\n",
    "\n",
    "plt.scatter(x, y)\n",
    "plt.xlabel('Running Distance (Mile)')\n",
    "plt.ylabel('Water Drinks (Litre)')"
   ]
  },
  {
   "cell_type": "markdown",
   "metadata": {},
   "source": [
    "# Question 1"
   ]
  },
  {
   "cell_type": "code",
   "execution_count": 3,
   "metadata": {},
   "outputs": [
    {
     "name": "stdout",
     "output_type": "stream",
     "text": [
      "6.518593101764703\n",
      "0.15385767404191164\n"
     ]
    }
   ],
   "source": [
    "def min_sq_error(y, x, w1, w0):\n",
    "    N = len(y)\n",
    "    y_pred = [(w1*i) + w0 for i in x]\n",
    "    sum_squared_error = sum([(y_pred[i] - y[i])**2 for i in range(N)])\n",
    "    mse = sum_squared_error/N\n",
    "    return mse\n",
    "\n",
    "print(min_sq_error(y, x, 0.7, 0.3))\n",
    "print(min_sq_error(y, x, 0.25163494, 0.79880123))"
   ]
  },
  {
   "cell_type": "markdown",
   "metadata": {},
   "source": [
    "# Question 2"
   ]
  },
  {
   "cell_type": "markdown",
   "metadata": {},
   "source": [
    "On Github"
   ]
  },
  {
   "cell_type": "markdown",
   "metadata": {},
   "source": [
    "# Question 3"
   ]
  },
  {
   "cell_type": "code",
   "execution_count": 5,
   "metadata": {},
   "outputs": [
    {
     "name": "stdout",
     "output_type": "stream",
     "text": [
      "(array([-1.66539565, -0.47344014, -0.59183303,  1.21596616, -0.54724506,\n",
      "       -1.4927748 ,  3.31588274,  0.23882752,  0.81423301, -2.20611603,\n",
      "        0.94284782,  4.1321736 , -1.08958482,  1.54768296, -0.19274866,\n",
      "        2.28294329, -1.95362486]), array([ 12.73998478,   5.31529392,   6.05276321,  -5.20801792,\n",
      "         5.77502478,  11.66472955, -18.28839829,   0.87857865,\n",
      "        -2.70562211,  16.10813204,  -3.50676375, -23.37307408,\n",
      "         9.15325912,  -7.27428188,   3.56686672, -11.85421846,\n",
      "        14.53536457]))\n"
     ]
    }
   ],
   "source": [
    "def slope_intercept_LR(x, y):\n",
    "    w1 = ((np.mean(x)*np.mean(y)) - [np.mean(i*j) for i,j in zip(x,y)]) / ((np.mean(x)**2) - (np.mean([i**2 for i in x])))\n",
    "    w0 = np.mean(y) - (w1 * np.mean(x))\n",
    "    return w1, w0\n",
    "\n",
    "print(slope_intercept_LR(x, y))\n"
   ]
  },
  {
   "cell_type": "markdown",
   "metadata": {},
   "source": [
    "# Question 4"
   ]
  },
  {
   "cell_type": "code",
   "execution_count": null,
   "metadata": {},
   "outputs": [],
   "source": []
  }
 ],
 "metadata": {
  "kernelspec": {
   "display_name": "Python 3",
   "language": "python",
   "name": "python3"
  },
  "language_info": {
   "codemirror_mode": {
    "name": "ipython",
    "version": 3
   },
   "file_extension": ".py",
   "mimetype": "text/x-python",
   "name": "python",
   "nbconvert_exporter": "python",
   "pygments_lexer": "ipython3",
   "version": "3.7.4"
  }
 },
 "nbformat": 4,
 "nbformat_minor": 2
}
